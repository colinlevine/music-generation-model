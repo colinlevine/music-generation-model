{
  "cells": [
    {
      "cell_type": "markdown",
      "metadata": {},
      "source": [
        "# Classical Music Generation Model"
      ]
    },
    {
      "cell_type": "markdown",
      "metadata": {
        "id": "rsvlBQYCrE4I"
      },
      "source": [
        "## Dependencies"
      ]
    },
    {
      "cell_type": "markdown",
      "metadata": {},
      "source": [
        "```bash\n",
        "sudo apt-get install abcmidi timidity\n",
        "pip install tensorflow==2.15\n",
        "```\n",
        "[Detailed tensorflow installation guide for gpu setup](https://www.tensorflow.org/install/pip).\n",
        "You may need to install other packages listed in the imports if not installed already."
      ]
    },
    {
      "cell_type": "code",
      "execution_count": null,
      "metadata": {
        "id": "riVZCVK65QTH"
      },
      "outputs": [],
      "source": [
        "import tensorflow as tf\n",
        "import numpy as np\n",
        "import os\n",
        "from IPython import display as ipythondisplay\n",
        "from tqdm import tqdm\n",
        "from IPython.display import Audio\n",
        "import subprocess\n",
        "import tempfile\n",
        "import regex as re\n",
        "\n",
        "\n",
        "\n",
        "# Check for GPU. Remove this if you plan to run on CPU.\n",
        "assert len(tf.config.list_physical_devices('GPU')) > 0"
      ]
    },
    {
      "cell_type": "markdown",
      "metadata": {
        "id": "_ajvp0No4qDm"
      },
      "source": [
        "## Dataset\n",
        "\n"
      ]
    },
    {
      "cell_type": "markdown",
      "metadata": {},
      "source": [
        "### Load dataset from file"
      ]
    },
    {
      "cell_type": "code",
      "execution_count": null,
      "metadata": {
        "id": "P7dFnP5q3Jve"
      },
      "outputs": [],
      "source": [
        "with open('training_data.txt', 'r') as file:\n",
        "    songs = file.read()"
      ]
    },
    {
      "cell_type": "markdown",
      "metadata": {
        "id": "7vH24yyquwKQ"
      },
      "source": [
        "### Find total unique characters in the dataset"
      ]
    },
    {
      "cell_type": "code",
      "execution_count": null,
      "metadata": {
        "id": "IlCgQBRVymwR"
      },
      "outputs": [],
      "source": [
        "vocab = sorted(set(songs))\n",
        "vocab_size = len(vocab)\n",
        "print(\"There are\", vocab_size, \"unique characters in the dataset\")"
      ]
    },
    {
      "cell_type": "markdown",
      "metadata": {
        "id": "LFjSVAlWzf-N"
      },
      "source": [
        "### Mapping the characters "
      ]
    },
    {
      "cell_type": "code",
      "execution_count": null,
      "metadata": {
        "id": "IalZLbvOzf-F"
      },
      "outputs": [],
      "source": [
        "# Mapping from character to unique index\n",
        "char2idx = {u:i for i, u in enumerate(vocab)}\n",
        "\n",
        "# Mapping from indices to characters\n",
        "idx2char = np.array(vocab)\n",
        "\n",
        "print(char2idx)\n",
        "print(idx2char)"
      ]
    },
    {
      "cell_type": "markdown",
      "metadata": {},
      "source": [
        "## Generate song"
      ]
    },
    {
      "cell_type": "markdown",
      "metadata": {},
      "source": [
        "### Generate ABC notation text from the model"
      ]
    },
    {
      "cell_type": "code",
      "execution_count": null,
      "metadata": {
        "id": "WvuwZBX5Ogfd"
      },
      "outputs": [],
      "source": [
        "model = tf.keras.models.load_model('saved_model/my_model')\n",
        "\n",
        "model.summary()\n",
        "\n",
        "def generate_text(model, start_string, generation_length=1000):\n",
        "\n",
        "  input_eval = [char2idx[s] for s in start_string]\n",
        "  input_eval = tf.expand_dims(input_eval, 0)\n",
        "\n",
        "  text_generated = []\n",
        "\n",
        "  model.reset_states()\n",
        "  tqdm._instances.clear()\n",
        "\n",
        "  for i in tqdm(range(generation_length)):\n",
        "      predictions = model(input_eval)\n",
        "\n",
        "      predictions = tf.squeeze(predictions, 0)\n",
        "\n",
        "      predicted_id = tf.random.categorical(predictions, num_samples=1)[-1,0].numpy()\n",
        "\n",
        "      input_eval = tf.expand_dims([predicted_id], 0)\n",
        "\n",
        "      text_generated.append(idx2char[predicted_id])\n",
        "\n",
        "  return (start_string + ''.join(text_generated))\n",
        "\n",
        "\n",
        "generated_text = generate_text(model, start_string=\"X\", generation_length=1000)\n",
        "print(generated_text)"
      ]
    },
    {
      "cell_type": "markdown",
      "metadata": {
        "id": "hKF3EHJlCAj2"
      },
      "source": [
        "### Function that converts ABC to MIDI to WAV"
      ]
    },
    {
      "cell_type": "code",
      "execution_count": null,
      "metadata": {
        "id": "11toYzhEEKDz"
      },
      "outputs": [],
      "source": [
        "def play_song(abcNotation, name):\n",
        "    cwd = os.getcwd()\n",
        "\n",
        "    # Convert ABC notation to MIDI\n",
        "    midiFilePath = os.path.join(cwd, f'{name}.mid')\n",
        "    with tempfile.NamedTemporaryFile(mode='w+', delete=False) as tmp_abc_file:\n",
        "        tmp_abc_file.write(abcNotation)\n",
        "        tmp_abc_file.flush()\n",
        "\n",
        "        try:\n",
        "            # Use abc2midi to convert ABC to MIDI\n",
        "            command = ['abc2midi', tmp_abc_file.name, '-o', midiFilePath]\n",
        "            subprocess.run(command, check=True)\n",
        "            print(f\"Conversion successful: {midiFilePath}\")\n",
        "        except subprocess.CalledProcessError as e:\n",
        "            print(f\"Error during conversion: {e}\")\n",
        "            return None\n",
        "\n",
        "    # Convert MIDI to WAV using timidity\n",
        "    wavFilePath = os.path.join(cwd, f'{name}.wav')\n",
        "    try:\n",
        "        # Use timidity to convert MIDI to WAV\n",
        "        command = ['timidity', midiFilePath, '-Ow', '-o', wavFilePath]\n",
        "        subprocess.run(command, check=True)\n",
        "        print(f\"WAV conversion successful: {wavFilePath}\")\n",
        "    except subprocess.CalledProcessError as e:\n",
        "        print(f\"Error during WAV conversion: {e}\")\n",
        "        return None\n",
        "\n",
        "    # Play song\n",
        "    return Audio(filename=wavFilePath)\n"
      ]
    },
    {
      "cell_type": "markdown",
      "metadata": {
        "id": "AM2Uma_-yVIq"
      },
      "source": [
        "### Extract and play the song(s)"
      ]
    },
    {
      "cell_type": "code",
      "execution_count": null,
      "metadata": {
        "id": "LrOtG64bfLto"
      },
      "outputs": [],
      "source": [
        "def extract_song_snippet(text):\n",
        "    # Pattern to match each song starting with 'X:' until the next 'X:' or end of text\n",
        "    pattern = r'(X:.*?)(?=\\n\\nX:|\\Z)'\n",
        "    search_results = re.findall(pattern, text, overlapped=True, flags=re.DOTALL)\n",
        "    songs = [song for song in search_results]\n",
        "    print(\"Found {} songs in text\".format(len(songs)))\n",
        "    return songs\n",
        "\n",
        "\n",
        "generated_songs = extract_song_snippet(generated_text)\n",
        "\n",
        "for i, song in enumerate(generated_songs):\n",
        "  # Synthesize the waveform from a song\n",
        "  output = play_song(song, f\"generated_song_{i}\")\n",
        "  display(output)\n"
      ]
    },
    {
      "cell_type": "markdown",
      "metadata": {},
      "source": [
        "The model isn't perfect, so you may need to rerun it if it doesn't work on the first try.\n"
      ]
    }
  ],
  "metadata": {
    "accelerator": "GPU",
    "colab": {
      "collapsed_sections": [
        "uoJsVjtCMunI"
      ],
      "provenance": []
    },
    "kernelspec": {
      "display_name": "Python 3",
      "name": "python3"
    },
    "language_info": {
      "codemirror_mode": {
        "name": "ipython",
        "version": 3
      },
      "file_extension": ".py",
      "mimetype": "text/x-python",
      "name": "python",
      "nbconvert_exporter": "python",
      "pygments_lexer": "ipython3",
      "version": "3.10.12"
    }
  },
  "nbformat": 4,
  "nbformat_minor": 0
}
